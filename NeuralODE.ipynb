{
 "cells": [
  {
   "cell_type": "code",
   "execution_count": 1,
   "id": "3cd45c1d",
   "metadata": {},
   "outputs": [],
   "source": [
    "from jupyterthemes import jtplot\n",
    "jtplot.style(theme=\"chesterish\")\n",
    "import torch\n",
    "import torch.nn as nn\n",
    "import torchdiffeq\n",
    "import matplotlib.pyplot as plt\n",
    "from torch.nn.functional import mse_loss\n",
    "import numpy as np \n",
    "from tqdm.notebook import tqdm\n",
    "\n",
    "\n",
    "from torchdiffeq import odeint_adjoint as odeint"
   ]
  },
  {
   "cell_type": "code",
   "execution_count": 2,
   "id": "4541bae0",
   "metadata": {},
   "outputs": [],
   "source": [
    "class Lambda(nn.Module):\n",
    "    def forward(self,x):\n",
    "         return x * x \n",
    "        \n",
    "class ODEBlock(nn.Module):\n",
    "    def __init__(self):\n",
    "        super(ODEBlock,self).__init__()\n",
    "        layers =[nn.Linear(1,32),\n",
    "                 nn.ReLU(),\n",
    "                 nn.Linear(32,64),\n",
    "                 nn.ReLU(),\n",
    "                 nn.Linear(64,64),\n",
    "                 nn.ReLU(),\n",
    "                 nn.Linear(64,1)]\n",
    "        self.net = nn.Sequential(\n",
    "            *layers\n",
    "        )\n",
    "    \n",
    "    def forward(self,t,x):\n",
    "        #copy_x = torch.clone(x)\n",
    "        #for i in range(10):\n",
    "        #    copy_x = x + self.net(copy_x)\n",
    "        x = self.net(x)\n",
    "            \n",
    "        return x\n",
    "    \n",
    "class ODENet(nn.Module):\n",
    "    def __init__(self, func):\n",
    "        super(ODENet,self).__init__()\n",
    "        self.func = func\n",
    "        self.intergrated_time = torch.Tensor([0.,1.]).float()\n",
    "    def forward(self,x):\n",
    "        out = odeint(self.func, x, self.intergrated_time)\n",
    "        return out[1]\n",
    "        \n",
    "def get_batch(X,Y):\n",
    "    data = torch.stack(X,Y) \n",
    "    print(data.shape)\n"
   ]
  },
  {
   "cell_type": "code",
   "execution_count": 3,
   "id": "90dd3593",
   "metadata": {},
   "outputs": [],
   "source": [
    "ode_func = ODEBlock()\n",
    "model = ODENet(ode_func)\n",
    "optimizer = torch.optim.Adam(model.parameters(), lr=1e-3)\n",
    "epochs = 250\n",
    "losses = []"
   ]
  },
  {
   "cell_type": "code",
   "execution_count": null,
   "id": "62efc4bf",
   "metadata": {},
   "outputs": [
    {
     "data": {
      "application/vnd.jupyter.widget-view+json": {
       "model_id": "fd416fea102d47228c687d4876976969",
       "version_major": 2,
       "version_minor": 0
      },
      "text/plain": [
       "  0%|          | 0/250 [00:00<?, ?it/s]"
      ]
     },
     "metadata": {},
     "output_type": "display_data"
    },
    {
     "name": "stdout",
     "output_type": "stream",
     "text": [
      "Epoch(s) 1 | Loss = 3.6232059001922607\n",
      "Epoch(s) 2 | Loss = 7.222836971282959\n",
      "Epoch(s) 3 | Loss = 2.3857033252716064\n",
      "Epoch(s) 4 | Loss = 5.496387481689453\n",
      "Epoch(s) 5 | Loss = 6.069095611572266\n",
      "Epoch(s) 6 | Loss = 3.86869740486145\n",
      "Epoch(s) 7 | Loss = 3.183358907699585\n",
      "Epoch(s) 8 | Loss = 0.8976607322692871\n",
      "Epoch(s) 9 | Loss = 4.302594184875488\n",
      "Epoch(s) 10 | Loss = 0.7062610387802124\n",
      "Epoch(s) 11 | Loss = 0.5448466539382935\n",
      "Epoch(s) 12 | Loss = 1.2873042821884155\n",
      "Epoch(s) 13 | Loss = 1.279668927192688\n",
      "Epoch(s) 14 | Loss = 2.6345293521881104\n",
      "Epoch(s) 15 | Loss = 4.206297874450684\n",
      "Epoch(s) 16 | Loss = 2.087820291519165\n",
      "Epoch(s) 17 | Loss = 0.585715115070343\n",
      "Epoch(s) 18 | Loss = 6.886377334594727\n",
      "Epoch(s) 19 | Loss = 7.933156490325928\n",
      "Epoch(s) 20 | Loss = 0.5807095170021057\n",
      "Epoch(s) 21 | Loss = 6.426394939422607\n",
      "Epoch(s) 22 | Loss = 8.000770568847656\n",
      "Epoch(s) 23 | Loss = 1.638418197631836\n",
      "Epoch(s) 24 | Loss = 0.2636297643184662\n",
      "Epoch(s) 25 | Loss = 2.6549620628356934\n",
      "Epoch(s) 26 | Loss = 1.7919187545776367\n",
      "Epoch(s) 27 | Loss = 4.340198993682861\n",
      "Epoch(s) 28 | Loss = 1.8005322217941284\n",
      "Epoch(s) 29 | Loss = 2.0081753730773926\n",
      "Epoch(s) 30 | Loss = 1.7729198932647705\n",
      "Epoch(s) 31 | Loss = 1.5340300798416138\n",
      "Epoch(s) 32 | Loss = 2.251832962036133\n",
      "Epoch(s) 33 | Loss = 0.9690266847610474\n",
      "Epoch(s) 34 | Loss = 0.46309149265289307\n",
      "Epoch(s) 35 | Loss = 0.310502290725708\n",
      "Epoch(s) 36 | Loss = 0.39884576201438904\n",
      "Epoch(s) 37 | Loss = 0.9444254636764526\n",
      "Epoch(s) 38 | Loss = 1.132445216178894\n",
      "Epoch(s) 39 | Loss = 1.9639708995819092\n",
      "Epoch(s) 40 | Loss = 0.9246053695678711\n",
      "Epoch(s) 41 | Loss = 2.132951259613037\n",
      "Epoch(s) 42 | Loss = 2.0224249362945557\n",
      "Epoch(s) 43 | Loss = 1.8921258449554443\n",
      "Epoch(s) 44 | Loss = 2.270735740661621\n",
      "Epoch(s) 45 | Loss = 3.0486998558044434\n",
      "Epoch(s) 46 | Loss = 1.931344985961914\n",
      "Epoch(s) 47 | Loss = 0.719657838344574\n",
      "Epoch(s) 48 | Loss = 1.2620478868484497\n"
     ]
    }
   ],
   "source": [
    "\n",
    "for i in tqdm(range(epochs)):\n",
    "    optimizer.zero_grad()\n",
    "    x = torch.rand((8,1)) * 4 - 2\n",
    "    y = x ** 3\n",
    "    pred_y = model(x)\n",
    "    loss = torch.mean((y - pred_y)**2)\n",
    "    losses.append(loss.item())\n",
    "    print(f\"Epoch(s) {i+1} | Loss = {losses[-1]}\")\n",
    "    loss.backward()\n",
    "    optimizer.step()"
   ]
  },
  {
   "cell_type": "code",
   "execution_count": 11,
   "id": "f5ff3ef7",
   "metadata": {},
   "outputs": [
    {
     "data": {
      "image/png": "[encoded data removed]",
      "text/plain": [
       "<Figure size 432x288 with 1 Axes>"
      ]
     },
     "metadata": {
      "needs_background": "dark"
     },
     "output_type": "display_data"
    }
   ],
   "source": [
    "test = np.linspace(-2,2,1000)\n",
    "plt.plot(test,test**3)\n",
    "test_y = model(torch.linspace(-2,2,1000).reshape(1000,1))\n",
    "plt.plot(test,test_y.detach().numpy(),color=\"r\")\n",
    "plt.show()"
   ]
  },
  {
   "cell_type": "code",
   "execution_count": null,
   "id": "6ea4f493",
   "metadata": {},
   "outputs": [],
   "source": []
  },
  {
   "cell_type": "code",
   "execution_count": null,
   "id": "144d7473",
   "metadata": {},
   "outputs": [],
   "source": []
  },
  {
   "cell_type": "code",
   "execution_count": null,
   "id": "63483be8",
   "metadata": {},
   "outputs": [],
   "source": []
  }
 ],
 "metadata": {
  "kernelspec": {
   "display_name": "Python 3 (ipykernel)",
   "language": "python",
   "name": "python3"
  },
  "language_info": {
   "codemirror_mode": {
    "name": "ipython",
    "version": 3
   },
   "file_extension": ".py",
   "mimetype": "text/x-python",
   "name": "python",
   "nbconvert_exporter": "python",
   "pygments_lexer": "ipython3",
   "version": "3.9.6"
  }
 },
 "nbformat": 4,
 "nbformat_minor": 5
}
