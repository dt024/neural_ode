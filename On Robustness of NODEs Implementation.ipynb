{
 "cells": [
  {
   "cell_type": "code",
   "execution_count": 2,
   "id": "0740cb7d",
   "metadata": {
    "code_folding": []
   },
   "outputs": [],
   "source": [
    "# Necessary\n",
    "import os\n",
    "import sys\n",
    "import numpy as np\n",
    "import torch\n",
    "import torch.nn as nn\n",
    "import torch.nn.functional as F\n",
    "from torch.utils.data import TensorDataset, DataLoader, random_split\n",
    "import torchvision\n",
    "import matplotlib.pyplot as plt\n",
    "from tqdm.notebook import tqdm\n",
    "from torchdiffeq import odeint_adjoint as odeint\n",
    "# from jupyterthemes import jtplot\n",
    "from utils import *\n",
    "# jtplot.style(theme=\"chesterish\")\n",
    " # CONSTANT \n",
    "device = \"cpu\"\n",
    "EPOCHS=1\n",
    "BATCH_SIZE=32\n",
    "IMG_SIZE=(32,32,3)"
   ]
  },
  {
   "cell_type": "code",
   "execution_count": 3,
   "id": "75bd4ff5",
   "metadata": {
    "code_folding": []
   },
   "outputs": [
    {
     "name": "stderr",
     "output_type": "stream",
     "text": [
      "/home/administrator/anaconda3/envs/neural_ode/lib/python3.9/site-packages/torchvision/datasets/mnist.py:498: UserWarning: The given NumPy array is not writeable, and PyTorch does not support non-writeable tensors. This means you can write to the underlying (supposedly non-writeable) NumPy array using the tensor. You may want to copy the array to protect its data or make it writeable before converting it to a tensor. This type of warning will be suppressed for the rest of this program. (Triggered internally at  ../torch/csrc/utils/tensor_numpy.cpp:180.)\n",
      "  return torch.from_numpy(parsed.astype(m[2], copy=False)).view(*s)\n"
     ]
    }
   ],
   "source": [
    "# Load data\n",
    "DIR = \"./data/mnist/\"\n",
    "MNIST = torchvision.datasets.MNIST(DIR,\n",
    "                                   train=True,\n",
    "                                   transform=None,\n",
    "                                   target_transform=None, download=False)\n",
    "\n",
    "\n",
    "#ds_len_, normal_ds_, pertubed_ds_ = preprocess_data(MNIST)\n"
   ]
  },
  {
   "cell_type": "code",
   "execution_count": 4,
   "id": "246727a8",
   "metadata": {},
   "outputs": [],
   "source": [
    "def train_model(model, optimizer, train_loader, val_loader,loss_fn, epochs=100):\n",
    "    print(model.eval())\n",
    "    print(f\"Numbers of parameters in model: {sum(p.numel() for p in model.parameters() if p.requires_grad)}\")\n",
    "    history = {\"loss\": [], \"acc\": [], \"val_loss\": [], \"val_acc\": []}\n",
    "    for epoch_id in tqdm(range(epochs)):\n",
    "        total = 0\n",
    "        correct = 0\n",
    "        running_loss = 0\n",
    "        print(f\"Start epoch number: {epoch_id + 1}\")\n",
    "        for batch_id, data in enumerate(train_loader, 0):\n",
    "            # get the inputs; data is a list of [inputs, labels]\n",
    "            #print(f\"Start batch number: {batch_id + 1} in epoch number: {epoch_id + 1}\")\n",
    "            inputs, labels = data\n",
    "            #print(f\"Get data done\")\n",
    "            # zero the parameter gradients\n",
    "            optimizer.zero_grad()\n",
    "            #print(f\"Reset the optimizer backward, grad to 0\") \n",
    "            # forward + backward + optimize\n",
    "            outputs = model(inputs)\n",
    "            #print(f\"forward data through model\")\n",
    "            _, predicted = torch.max(outputs, 1)\n",
    "            #print(f\"Get predicted class\")\n",
    "            _, correct_labels = torch.max(labels, 1)\n",
    "            #print(f\"Get label class\")\n",
    "            #print(labels)\n",
    "            total += labels.size(0)\n",
    "            correct += correct += (predicted == correct_labels).sum().item()\n",
    "            #print(\"Calculate the number of correct predictions\")\n",
    "            #print(labels.shape, outputs.shape)\n",
    "            loss = loss_fn(outputs.float(), labels.float())\n",
    "            loss.backward()\n",
    "            #print(\"Backward loss\")\n",
    "            optimizer.step()\n",
    "            #print(\"Step\")\n",
    "            running_loss += loss.item() \n",
    "            #print(f\"End batch number: {batch_id + 1} in epoch number {epoch_id + 1}\")\n",
    "        acc = round(correct/total * 1.0, 2)\n",
    "        #print(\"Accuracy was calculated\")\n",
    "        history[\"acc\"].append(acc)\n",
    "        history[\"loss\"].append(running_loss)\n",
    "        print(\"Before evaluate\")\n",
    "        val_loss, val_acc = model.evaluate(val_loader)\n",
    "        print(\"After evaluation\")\n",
    "        history[\"val_loss\"].append(val_loss)\n",
    "        history[\"val_acc\"].append(val_acc)\n",
    "        print(f\"Epoch(s) {epoch_id + 1} | loss: {loss} | acc: {acc} | val_loss: {val_loss} | val_acc: {val_acc}\")\n",
    "    return history\n",
    "\n",
    "\n",
    "\n",
    "\n",
    "def main(ds_len, ds, name = \"mnist_50\",batch_size=32,epochs=100, lr=1e-3,data_dis=[8000,2000,50000], device=\"cpu\", result_dir=\"./result\"):\n",
    "    print(f\"Number of train: {data_dis[0]}\\nNumber of validation: {data_dis[1]}\")\n",
    "    train_set, val_set, _ = torch.utils.data.random_split(ds,data_dis)\n",
    "    #print(type(train_set))\n",
    "    assert isinstance(train_set,torch.utils.data.Dataset)\n",
    "    train_loader = DataLoader(train_set, shuffle=True, batch_size=batch_size)\n",
    "    val_loader = DataLoader(val_set, shuffle=True, batch_size=data_dis[1])\n",
    "    loss_fn = torch.nn.functional.binary_cross_entropy_with_logits\n",
    "    ode_func = ODEBlock().to(device)\n",
    "    ode_model = ODENet(ode_func, device=device).to(device)\n",
    "    ode_optimizer = torch.optim.Adam(ode_model.parameters(), lr=lr)\n",
    "    cnn_model = Network().to(device)\n",
    "    cnn_optimizer = torch.optim.Adam(cnn_model.parameters(), lr=lr)\n",
    "    cnn_his = train_model(cnn_model, \n",
    "                         cnn_optimizer,\n",
    "                         train_loader, val_loader, loss_fn=loss_fn,epochs=epochs)\n",
    "    ode_his = train_model(ode_model,\n",
    "                          ode_optimizer,\n",
    "                          train_loader, val_loader, loss_fn=loss_fn, epochs=epochs)\n",
    "    save_result(cnn_his,model_name=\"cnn\",ds_name=name, result_dir=result_dir)\n",
    "    save_result(ode_his,model_name=\"ode\",ds_name=name, result_dir=result_dir)\n"
   ]
  },
  {
   "cell_type": "code",
   "execution_count": 5,
   "id": "a07757bf",
   "metadata": {},
   "outputs": [
    {
     "name": "stdout",
     "output_type": "stream",
     "text": [
      "AxesImage(54,36;334.8x217.44)\n"
     ]
    },
    {
     "data": {
      "image/png": "[encoded data removed]",
      "text/plain": [
       "<Figure size 432x288 with 1 Axes>"
      ]
     },
     "metadata": {
      "needs_background": "light"
     },
     "output_type": "display_data"
    }
   ],
   "source": [
    "print(plt.imshow(np.array(MNIST[300][0]) / 255.0, cmap=\"gray\"))"
   ]
  },
  {
   "cell_type": "code",
   "execution_count": 6,
   "id": "69df20aa",
   "metadata": {},
   "outputs": [],
   "source": [
    "_ds_len, _ds = preprocess_data(MNIST)"
   ]
  },
  {
   "cell_type": "code",
   "execution_count": 10,
   "id": "5a72b5b7",
   "metadata": {},
   "outputs": [
    {
     "ename": "AttributeError",
     "evalue": "'tuple' object has no attribute 'shape'",
     "output_type": "error",
     "traceback": [
      "\u001b[0;31m---------------------------------------------------------------------------\u001b[0m",
      "\u001b[0;31mAttributeError\u001b[0m                            Traceback (most recent call last)",
      "\u001b[0;32m/tmp/ipykernel_8994/3643631284.py\u001b[0m in \u001b[0;36m<module>\u001b[0;34m\u001b[0m\n\u001b[0;32m----> 1\u001b[0;31m \u001b[0mprint\u001b[0m\u001b[0;34m(\u001b[0m\u001b[0m_ds\u001b[0m\u001b[0;34m[\u001b[0m\u001b[0;34m\"50.0\"\u001b[0m\u001b[0;34m]\u001b[0m\u001b[0;34m[\u001b[0m\u001b[0;36m1\u001b[0m\u001b[0;34m]\u001b[0m\u001b[0;34m.\u001b[0m\u001b[0mshape\u001b[0m\u001b[0;34m)\u001b[0m\u001b[0;34m\u001b[0m\u001b[0;34m\u001b[0m\u001b[0m\n\u001b[0m",
      "\u001b[0;31mAttributeError\u001b[0m: 'tuple' object has no attribute 'shape'"
     ]
    }
   ],
   "source": [
    "print(_ds[\"50.0\"][1].shape)"
   ]
  }
 ],
 "metadata": {
  "kernelspec": {
   "display_name": "Python 3 (ipykernel)",
   "language": "python",
   "name": "python3"
  },
  "language_info": {
   "codemirror_mode": {
    "name": "ipython",
    "version": 3
   },
   "file_extension": ".py",
   "mimetype": "text/x-python",
   "name": "python",
   "nbconvert_exporter": "python",
   "pygments_lexer": "ipython3",
   "version": "3.9.7"
  }
 },
 "nbformat": 4,
 "nbformat_minor": 5
}
