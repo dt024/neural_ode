{
 "cells": [
  {
   "cell_type": "code",
   "execution_count": 10,
   "id": "0740cb7d",
   "metadata": {
    "code_folding": []
   },
   "outputs": [],
   "source": [
    "# Necessary\n",
    "import os\n",
    "import sys\n",
    "import numpy as np\n",
    "import torch\n",
    "import torch.nn as nn\n",
    "import torch.nn.functional as F\n",
    "from torch.utils.data import TensorDataset, DataLoader, random_split\n",
    "import torchvision\n",
    "import matplotlib.pyplot as plt\n",
    "from tqdm.notebook import tqdm\n",
    "from torchdiffeq import odeint_adjoint as odeint\n",
    "from jupyterthemes import jtplot\n",
    "from utils import *\n",
    "import json\n",
    "import pandas as pd\n",
    "from pandas import  json_normalize \n",
    "jtplot.style(theme=\"chesterish\")\n",
    " # CONSTANT \n",
    "device = \"cuda\"\n",
    "EPOCHS=1\n",
    "BATCH_SIZE=32\n",
    "IMG_SIZE=(32,32,3)"
   ]
  },
  {
   "cell_type": "code",
   "execution_count": 35,
   "id": "372a8bf9",
   "metadata": {},
   "outputs": [],
   "source": [
    "result = json.loads(open(\"result/evaluate.json\", \"r\").readline())\n",
    "ode_result = pd.DataFrame.from_dict(result[\"ode\"]) \n",
    "cnn_result = pd.DataFrame.from_dict(result[\"cnn\"])\n"
   ]
  },
  {
   "cell_type": "code",
   "execution_count": 36,
   "id": "3508b586",
   "metadata": {},
   "outputs": [
    {
     "data": {
      "text/plain": [
       "null     0.996217\n",
       "1e-07    0.958917\n",
       "50.0     0.901047\n",
       "75.0     0.790557\n",
       "100.0    0.627840\n",
       "dtype: float64"
      ]
     },
     "execution_count": 36,
     "metadata": {},
     "output_type": "execute_result"
    }
   ],
   "source": [
    "ode_result.mean()"
   ]
  },
  {
   "cell_type": "code",
   "execution_count": 47,
   "id": "b5c9107a",
   "metadata": {},
   "outputs": [],
   "source": [
    "def table_(result_):\n",
    "    means = []\n",
    "    stds = []\n",
    "    for column in result_:\n",
    "#        print(str(column))\n",
    "#        result_[column].astype('float64')\n",
    "#        print(result_[column].describe())\n",
    "#        print(\"\\n\\n\")\n",
    "        des = result_[column].describe()\n",
    "       # print(des[\"mean\"])\n",
    "        means.append(des[\"mean\"])\n",
    "        stds.append(des[\"std\"])\n",
    "    return means,stds\n",
    "ode_means, ode_std = table_(ode_result)\n",
    "cnn_means, cnn_std = table_(cnn_result)"
   ]
  },
  {
   "cell_type": "code",
   "execution_count": 53,
   "id": "163ca1d0",
   "metadata": {},
   "outputs": [],
   "source": [
    "with open(\"result/mnist.md\", \"w\") as f:\n",
    "    f.write(\"| None | 1e-7 | 50.0 | 75.0 | 100.0 |\\n\")\n",
    "    f.write(\"| :--- | :----: | :----: | :-----: | :-----: |\\n\")\n",
    "    f.write(f\"| ODENet | {round(ode_means[0],3)}$\\pm${round(ode_std[0],3)}| {round(ode_means[1],3)}$\\pm${round(ode_std[1],3)} | {round(ode_means[2],3)}$\\pm${round(ode_std[2],3)} | {round(ode_means[3],3)}$\\pm${round(ode_std[3],3)} | {round(ode_means[4],3)}$\\pm${round(ode_std[4],3)} |\\n\")\n",
    "    f.write(f\"| CNN | {round(cnn_means[0],3)}$\\pm${round(cnn_std[0],3)}| {round(cnn_means[1],3)}$\\pm${round(cnn_std[1],3)} | {round(cnn_means[2],3)}$\\pm${round(cnn_std[2],3)} | {round(cnn_means[3],3)}$\\pm${round(cnn_std[3],3)} | {round(cnn_means[4],3)}$\\pm${round(cnn_std[4],3)} |\")"
   ]
  },
  {
   "cell_type": "markdown",
   "id": "76c3bf09",
   "metadata": {},
   "source": [
    "\n",
    "```bash\n",
    "python3 run.py --parallel true --device cuda --epoch 100 --batch-size 128\n",
    "```\n",
    "\n",
    "| None | 1e-7 | 50.0 | 75.0 | 100.0 |\n",
    "| :--- | :----: | :----: | :-----: | :-----: |\n",
    "| ODENet | 0.996$\\pm$0.001| 0.959$\\pm$0.024 | 0.901$\\pm$0.058 | 0.791$\\pm$0.107 | 0.628$\\pm$0.139 |\n",
    "| CNN | 0.998$\\pm$0.002| 0.612$\\pm$0.203 | 0.45$\\pm$0.165 | 0.351$\\pm$0.115 | 0.283$\\pm$0.078 |"
   ]
  },
  {
   "cell_type": "code",
   "execution_count": null,
   "id": "0486495e",
   "metadata": {},
   "outputs": [],
   "source": []
  }
 ],
 "metadata": {
  "kernelspec": {
   "display_name": "Python 3 (ipykernel)",
   "language": "python",
   "name": "python3"
  },
  "language_info": {
   "codemirror_mode": {
    "name": "ipython",
    "version": 3
   },
   "file_extension": ".py",
   "mimetype": "text/x-python",
   "name": "python",
   "nbconvert_exporter": "python",
   "pygments_lexer": "ipython3",
   "version": "3.9.7"
  }
 },
 "nbformat": 4,
 "nbformat_minor": 5
}
