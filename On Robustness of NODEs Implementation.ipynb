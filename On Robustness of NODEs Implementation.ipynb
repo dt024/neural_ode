{
 "cells": [
  {
   "cell_type": "code",
   "execution_count": 1,
   "id": "0740cb7d",
   "metadata": {
    "code_folding": []
   },
   "outputs": [],
   "source": [
    "# Necessary\n",
    "import os\n",
    "import sys\n",
    "import numpy as np\n",
    "import torch\n",
    "import torch.nn as nn\n",
    "import torch.nn.functional as F\n",
    "from torch.utils.data import TensorDataset, DataLoader, random_split\n",
    "import torchvision\n",
    "import matplotlib.pyplot as plt\n",
    "from tqdm.notebook import tqdm\n",
    "from torchdiffeq import odeint_adjoint as odeint\n",
    "# from jupyterthemes import jtplot\n",
    "from utils import *\n",
    "# jtplot.style(theme=\"chesterish\")\n",
    " # CONSTANT \n",
    "device = \"cuda\"\n",
    "EPOCHS=1\n",
    "BATCH_SIZE=32\n",
    "IMG_SIZE=(32,32,3)"
   ]
  },
  {
   "cell_type": "code",
   "execution_count": 2,
   "id": "75bd4ff5",
   "metadata": {
    "code_folding": []
   },
   "outputs": [
    {
     "name": "stderr",
     "output_type": "stream",
     "text": [
      "/home/administrator/anaconda3/envs/neural_ode/lib/python3.9/site-packages/torchvision/datasets/mnist.py:498: UserWarning: The given NumPy array is not writeable, and PyTorch does not support non-writeable tensors. This means you can write to the underlying (supposedly non-writeable) NumPy array using the tensor. You may want to copy the array to protect its data or make it writeable before converting it to a tensor. This type of warning will be suppressed for the rest of this program. (Triggered internally at  ../torch/csrc/utils/tensor_numpy.cpp:180.)\n",
      "  return torch.from_numpy(parsed.astype(m[2], copy=False)).view(*s)\n"
     ]
    }
   ],
   "source": [
    "# Load data\n",
    "DIR = \"./data/mnist/\"\n",
    "MNIST = torchvision.datasets.MNIST(DIR,\n",
    "                                   train=True,\n",
    "                                   transform=None,\n",
    "                                   target_transform=None, download=True)\n",
    "ls = enumerate(MNIST)\n",
    "\n",
    "#ds_len_, normal_ds_, pertubed_ds_ = preprocess_data(MNIST)\n"
   ]
  },
  {
   "cell_type": "code",
   "execution_count": 3,
   "id": "ee5ae434",
   "metadata": {},
   "outputs": [],
   "source": [
    "cnn_model = Network()\n",
    "ode_func = ODEBlock()\n",
    "ode_model = ODENet(ode_func)\n",
    "\n",
    "\n",
    "# In[4]:\n",
    "\n",
    "\n",
    "def model_state_dict_parallel_convert(state_dict, mode):\n",
    "    from collections import OrderedDict\n",
    "    new_state_dict = OrderedDict()\n",
    "    if mode == 'to_single':\n",
    "        for k, v in state_dict.items():\n",
    "            name = k.replace(\"module.\",\"\")  # remove 'module.' of DataParallel\n",
    "            new_state_dict[name] = v\n",
    "    elif mode == 'to_parallel':\n",
    "        for k, v in state_dict.items():\n",
    "            name = 'module.' + k  # add 'module.' of DataParallel\n",
    "            new_state_dict[name] = v\n",
    "    elif mode == 'same':\n",
    "        new_state_dict = state_dict\n",
    "    else:\n",
    "        raise Exception('mode = to_single / to_parallel')\n",
    "\n",
    "    return new_state_dict \n",
    "ode_state_dict = torch.load(\"./model/ode_origin/mnist_origin_origin.pt\",map_location=torch.device('cuda'))\n",
    "ode_state_dict = model_state_dict_parallel_convert(ode_state_dict, mode=\"to_single\")\n",
    "ode_model.load_state_dict(ode_state_dict)\n",
    "cnn_state_dict = torch.load(\"./model/cnn_origin/mnist_origin_origin.pt\",map_location=torch.device('cuda'))\n",
    "cnn_state_dict = model_state_dict_parallel_convert(cnn_state_dict, mode=\"to_single\")\n",
    "cnn_model.load_state_dict(cnn_state_dict)\n",
    "\n",
    "ode_model = ode_model.to(device)\n",
    "cnn_model = cnn_model.to(device)\n"
   ]
  },
  {
   "cell_type": "code",
   "execution_count": 4,
   "id": "56bb99dc",
   "metadata": {},
   "outputs": [],
   "source": [
    "# def visualize_model(model,data, typ=\"ode\", sigma = 50.0):\n",
    "#     import random\n",
    "#     cnt = 0\n",
    "#     tr = []; fal = []\n",
    "#     for _, dp in list(enumerate(data)):\n",
    "#         np_dp = torch.tensor(np.array(dp[0]).reshape((1,1,28,28))).float()\n",
    "#         np_dp = np_dp + torch.normal(torch.zeros(np_dp.shape),torch.ones(np_dp.shape) * sigma).float()\n",
    "#         np_dp = np_dp.to(device)\n",
    "#         preds = model(np_dp)\n",
    "#         preds = torch.argmax(preds,dim=1).item()\n",
    "#         if preds == dp[1]:  tr.append((np_dp,dp[1],preds))\n",
    "#         else: fal.append((np_dp,dp[1],preds))\n",
    "#         cnt+=1\n",
    "#         if cnt == 6001: break\n",
    "#     print(f\"With sigma = {sigma}, the number of images going to wrong is: {len(fal)} / 2000 (images)\")\n",
    "#     random.shuffle(tr)\n",
    "#     random.shuffle(fal)\n",
    "#     return tr, fal\n",
    "# def plot(tr, fal, typ=\"ode\"):\n",
    "#     fig, ax = plt.subplots(2,5,sharex=True,sharey=True)\n",
    "#     for i in range(5):\n",
    "#         ax[0][i].imshow(tr[i][0].cpu().detach().numpy().reshape((28,28)),cmap=\"gray\")\n",
    "#         ax[0][i].set_xlabel(f\"truths: {tr[i][1]}\\nPred: {tr[i][2]}\")\n",
    "#         ax[1][i].imshow(fal[i][0].cpu().detach().numpy().reshape((28,28)),cmap=\"gray\")\n",
    "#         ax[1][i].set_xlabel(f\"truths: {fal[i][1]}\\nPred: {fal[i][2]}\")\n",
    "#     #plt.xlabel(f\"{typ} model with sigma {sigma}\")\n",
    "#     plt.show()\n",
    "# tr1, fal1 = visualize_model(cnn_model, MNIST, typ=\"cnnnet\", sigma=sig)\n",
    "# tr2, fal2 = visualize_model(ode_model, MNIST, typ=\"odenet\", sigma=sig)"
   ]
  },
  {
   "cell_type": "code",
   "execution_count": 5,
   "id": "5bcba36e",
   "metadata": {},
   "outputs": [],
   "source": [
    "# sig = 100.0\n",
    "\n",
    "# plot(tr1,fal1, typ=\"ode\")\n",
    "\n",
    "# plot(tr2,fal2, typ=\"cnn\")"
   ]
  },
  {
   "cell_type": "code",
   "execution_count": 6,
   "id": "69df20aa",
   "metadata": {},
   "outputs": [],
   "source": [
    "# _ds_len, _ds = preprocess_data(MNIST)\n",
    "\n",
    "# print(_ds)"
   ]
  },
  {
   "cell_type": "code",
   "execution_count": 7,
   "id": "372a8bf9",
   "metadata": {},
   "outputs": [],
   "source": [
    "# FGSM attack code\n",
    "def fgsm_attack(image, epsilon, data_grad):\n",
    "    sign_data_grad = data_grad.sign()\n",
    "    perturbed_image = image + epsilon*sign_data_grad\n",
    "    # Adding clipping to maintain [0,1] range\n",
    "    perturbed_image = torch.clamp(perturbed_image, 0, 1)\n",
    "\n",
    "    return perturbed_image"
   ]
  },
  {
   "cell_type": "code",
   "execution_count": 8,
   "id": "bbf0ce07-fd15-451e-be42-53716a036bd0",
   "metadata": {},
   "outputs": [],
   "source": [
    "def test(model, device, test_loader, loss_fn, epsilon):\n",
    "    correct = 0\n",
    "    model.eval()\n",
    "    for data, target in test_loader:\n",
    "\n",
    "        data, target = data.to(device), target.to(device)\n",
    "        data.requires_grad = True\n",
    "\n",
    "        # Forward pass the data through the model\n",
    "        output = model(data)\n",
    "        _, init_pred = torch.max(output, 1)\n",
    "        _, correct_labels = torch.max(target, 1)\n",
    "\n",
    "        # If the initial prediction is wrong, skip\n",
    "        if init_pred.item() != correct_labels.item():\n",
    "            continue\n",
    "\n",
    "        loss = loss_fn(output.float(), target.float())\n",
    "        model.zero_grad()\n",
    "\n",
    "        loss.backward()\n",
    "        data_grad = data.grad.data\n",
    "        perturbed_data = fgsm_attack(data, epsilon, data_grad)\n",
    "\n",
    "        # Re-classify the perturbed image\n",
    "        output = model(perturbed_data)\n",
    "        _, final_pred = torch.max(output, 1)\n",
    "        if final_pred.item() == correct_labels.item():\n",
    "            correct += 1\n",
    "\n",
    "    final_acc = correct/float(len(test_loader))\n",
    "    print(\"Epsilon: {}\\tTest Accuracy = {} / {} = {}\".format(epsilon, correct, len(test_loader), final_acc))\n",
    "\n",
    "    \n",
    "    return final_acc"
   ]
  },
  {
   "cell_type": "code",
   "execution_count": 9,
   "id": "7f1b3521-14b9-4d53-8a95-f10a66cfd716",
   "metadata": {},
   "outputs": [],
   "source": [
    "import random\n",
    "\n",
    "def preprocess_fgsm_data(data, shape = (28,28), device=\"cpu\", numTest=1000):\n",
    "    X = []\n",
    "    Y = []\n",
    "    ds = {}\n",
    "    cnt = 0\n",
    "    for data_idx, (x,y) in list(enumerate(data)):\n",
    "        if random.random()<0.5:\n",
    "            continue\n",
    "        X.append(np.array(x).reshape((1,shape[0],shape[0])))\n",
    "        Y.append(y)\n",
    "        cnt += 1\n",
    "        if cnt==numTest:\n",
    "            break\n",
    "    y_data = F.one_hot(torch.Tensor(Y).to(torch.int64), num_classes=10)\n",
    "    y_data = y_data.to(device)\n",
    "    x_data = torch.Tensor(X)\n",
    "    x_data = x_data.to(device)\n",
    "    \n",
    "    ds.update({\"original\": TensorDataset(x_data / 255.0, y_data)})\n",
    "    ds_len = len(Y)\n",
    "    return ds_len, ds\n"
   ]
  },
  {
   "cell_type": "code",
   "execution_count": 10,
   "id": "9b2c1ed1-5a00-4860-b3cf-95e75b7b6572",
   "metadata": {},
   "outputs": [],
   "source": [
    "_ds_len, _ds = preprocess_fgsm_data(MNIST)\n"
   ]
  },
  {
   "cell_type": "code",
   "execution_count": 11,
   "id": "62d720cf-805d-4d13-a575-04cf061e4b37",
   "metadata": {},
   "outputs": [
    {
     "name": "stdout",
     "output_type": "stream",
     "text": [
      "CNN model\n"
     ]
    },
    {
     "name": "stderr",
     "output_type": "stream",
     "text": [
      "/home/administrator/anaconda3/envs/neural_ode/lib/python3.9/site-packages/torch/nn/modules/container.py:139: UserWarning: Implicit dimension choice for softmax has been deprecated. Change the call to include dim=X as an argument.\n",
      "  input = module(input)\n"
     ]
    },
    {
     "name": "stdout",
     "output_type": "stream",
     "text": [
      "Epsilon: 0.15\tTest Accuracy = 57 / 1000 = 0.057\n",
      "took:  5.2390055656433105\n",
      "Epsilon: 0.3\tTest Accuracy = 5 / 1000 = 0.005\n",
      "took:  5.890883445739746\n",
      "Epsilon: 0.5\tTest Accuracy = 18 / 1000 = 0.018\n",
      "took:  5.934651613235474\n",
      "---------\n",
      "ODE model\n",
      "Epsilon: 0.15\tTest Accuracy = 312 / 1000 = 0.312\n",
      "took:  52.79925298690796\n",
      "Epsilon: 0.3\tTest Accuracy = 62 / 1000 = 0.062\n",
      "took:  53.87685799598694\n",
      "Epsilon: 0.5\tTest Accuracy = 50 / 1000 = 0.05\n",
      "took:  53.409910440444946\n"
     ]
    }
   ],
   "source": [
    "import time\n",
    "val_loader = DataLoader(_ds['original'], batch_size=1)\n",
    "loss_fn = torch.nn.functional.binary_cross_entropy_with_logits\n",
    "print('CNN model')\n",
    "start = time.time()\n",
    "test(cnn_model, device, val_loader, loss_fn, 0.15)\n",
    "print('took: ',time.time() - start)\n",
    "\n",
    "start = time.time()\n",
    "test(cnn_model, device, val_loader, loss_fn, 0.3)\n",
    "print('took: ',time.time() - start)\n",
    "\n",
    "start = time.time()\n",
    "test(cnn_model, device, val_loader, loss_fn, 0.5)\n",
    "print('took: ',time.time() - start)\n",
    "\n",
    "print('---------')\n",
    "print('ODE model')\n",
    "start = time.time()\n",
    "test(ode_model, device, val_loader, loss_fn, 0.15)\n",
    "print('took: ',time.time() - start)\n",
    "\n",
    "start = time.time()\n",
    "test(ode_model, device, val_loader, loss_fn, 0.3)\n",
    "print('took: ',time.time() - start)\n",
    "\n",
    "start = time.time()\n",
    "test(ode_model, device, val_loader, loss_fn, 0.5)\n",
    "print('took: ',time.time() - start)"
   ]
  },
  {
   "cell_type": "code",
   "execution_count": null,
   "id": "56ade43c-f73a-4361-b3ce-46566dceae83",
   "metadata": {},
   "outputs": [],
   "source": []
  }
 ],
 "metadata": {
  "kernelspec": {
   "display_name": "Python 3 (ipykernel)",
   "language": "python",
   "name": "python3"
  },
  "language_info": {
   "codemirror_mode": {
    "name": "ipython",
    "version": 3
   },
   "file_extension": ".py",
   "mimetype": "text/x-python",
   "name": "python",
   "nbconvert_exporter": "python",
   "pygments_lexer": "ipython3",
   "version": "3.9.7"
  }
 },
 "nbformat": 4,
 "nbformat_minor": 5
}
